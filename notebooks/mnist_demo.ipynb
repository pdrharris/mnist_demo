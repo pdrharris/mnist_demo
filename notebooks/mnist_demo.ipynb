{
 "cells": [
  {
   "cell_type": "markdown",
   "metadata": {},
   "source": [
    "# Introduction\n",
    "\n",
    "In machine learning with images, the place that everyone starts is with MNIST. \n",
    "\n",
    "The MNIST dataset is a collection of 70,000 images of handwritten digits from 0 to 9. The images are 28 by 28 pixels in size and are in grayscale. The dataset was created by combining two datasets from the National Institute of Standards and Technology (NIST). It was put together by Yann LeCun, Corinna Cortes, and Christopher J.C. Burges in 1994.\n",
    "\n",
    "Yann LeCun also developed the convolutional neural network. Back in 2012 (an age ago in machine learning!), this network enabled him to achieve state of the art results with the famous ImageNet dataset - improving the previous year's results by over 10%. While his work has been built on and developed, the convolutional network that we will look at below has been the backbone of all computer vision (any work that involves images) ever since."
   ]
  },
  {
   "cell_type": "markdown",
   "metadata": {},
   "source": [
    "## Guide to this notebook\n",
    "This notebook contains all of the code that you need to train an PyTorch model on the MNIST dataset. Assuming that you are seeing this in a Jupyter notebook, it needs three other things to train the model:\n",
    "- The key Python libraries installed (as listed below).\n",
    "- The `mnistdataset.py` file, which should already by here as part of the same zip file.\n",
    "- The data, which again should already be here in the same zip file under the _data_ directory.\n",
    "\n",
    "To run each cell, press the _play_ button beside each cell or select the cell and press _shift-enter_.\n",
    "\n",
    "**Note:** the cells with code in them need to be run in the order that they come in this notebook.\n",
    "\n",
    "My hope is that you'll play with the notebook, create new cells, tweak things and explore and, as you do so, grow in your understanding. Indeed, it would be great if this notebook became a template for you to do some experiments of your own."
   ]
  },
  {
   "cell_type": "markdown",
   "metadata": {},
   "source": [
    "# Imports\n",
    "Start with imports from installed Python libraries"
   ]
  },
  {
   "cell_type": "markdown",
   "metadata": {},
   "source": [
    "Key libraries to install:\n",
    "- pytorch\n",
    "- pandas\n",
    "- numpy\n",
    "- matplotlib\n",
    "- sklearn\n",
    "\n",
    "Sandboxed Python install:\n",
    "- Anaconda"
   ]
  },
  {
   "cell_type": "code",
   "execution_count": 1,
   "metadata": {},
   "outputs": [],
   "source": [
    "from pathlib import Path\n",
    "import torch\n",
    "import torch.nn as nn\n",
    "from torch.utils.data import Dataset, DataLoader\n",
    "import numpy as np\n",
    "import matplotlib.pyplot as plt"
   ]
  },
  {
   "cell_type": "markdown",
   "metadata": {},
   "source": [
    "Now let's also import our dataset from the mnist_dataset.py file that we wrote earlier."
   ]
  },
  {
   "cell_type": "code",
   "execution_count": 2,
   "metadata": {},
   "outputs": [],
   "source": [
    "from mnist_dataset import MnistDataset"
   ]
  },
  {
   "cell_type": "markdown",
   "metadata": {},
   "source": [
    "Here's a python hint - by typing in a function and putting a question mark after it, you get the help documentation for that function."
   ]
  },
  {
   "cell_type": "code",
   "execution_count": 3,
   "metadata": {},
   "outputs": [
    {
     "name": "stdout",
     "output_type": "stream",
     "text": [
      "\u001b[1;31mInit signature:\u001b[0m \u001b[0mMnistDataset\u001b[0m\u001b[1;33m(\u001b[0m\u001b[1;33m*\u001b[0m\u001b[0margs\u001b[0m\u001b[1;33m,\u001b[0m \u001b[1;33m**\u001b[0m\u001b[0mkwds\u001b[0m\u001b[1;33m)\u001b[0m\u001b[1;33m\u001b[0m\u001b[1;33m\u001b[0m\u001b[0m\n",
      "\u001b[1;31mDocstring:\u001b[0m     \n",
      "A custom PyTorch dataset class for loading the MNIST dataset.\n",
      "\n",
      "The dataset expects to find a directory under data_root called 'train' or 'test'.\n",
      "This will contain the train or the test data.\n",
      "\n",
      "The dataset also expects to find a file called 'train.csv' or 'test.csv' in the\n",
      "specified data directory.\n",
      "    The 'train.csv' or 'test.csv' file should contain a column called 'png' that contains\n",
      "    the name of each image file in the dataset.\n",
      "    The 'train.csv' or 'test.csv' should also contain a column called 'label'\n",
      "    that contains the correct label for each image in the dataset.\n",
      "\n",
      "See mnist_dataset.ipynb for more details on this class and the csv files.\n",
      "\n",
      "Args:\n",
      "    data_root (Path or str): The root directory containing the dataset.\n",
      "    mode (str): The mode of the dataset (either 'train' or 'test').\n",
      "\n",
      "Attributes:\n",
      "    data_path (Path): The path to the directory for this dataset (the train or the test dataset).\n",
      "    image_info (pd.DataFrame): A Pandas DataFrame containing information about the images in the dataset.\n",
      "\n",
      "Methods:\n",
      "    __len__: Returns the number of images in the dataset.\n",
      "    __getitem__: Returns the image and label data for the specified index.\n",
      "\n",
      "Examples:\n",
      "    train_dataset = MnistDataset('/data/mnist_data', 'train')\n",
      "    len(train_dataset)\n",
      "        [returns the length of the dataset]\n",
      "    train_dataset[0]\n",
      "        [returns the image and label data for the first image in the dataset]\n",
      "\u001b[1;31mInit docstring:\u001b[0m\n",
      "Initializes a new instance of the MnistDataset class.\n",
      "\n",
      "Args:\n",
      "    data_root (Path or str): The root directory containing the dataset.\n",
      "    mode (Path): The mode of the dataset (either 'train' or 'test').\n",
      "\u001b[1;31mFile:\u001b[0m           c:\\users\\hape8001\\onedrive - the nielsen company\\code\\mnist_demo\\notebooks\\mnist_dataset.py\n",
      "\u001b[1;31mType:\u001b[0m           type\n",
      "\u001b[1;31mSubclasses:\u001b[0m     \n"
     ]
    }
   ],
   "source": [
    "MnistDataset?"
   ]
  },
  {
   "cell_type": "code",
   "execution_count": 4,
   "metadata": {},
   "outputs": [
    {
     "data": {
      "text/plain": [
       "True"
      ]
     },
     "execution_count": 4,
     "metadata": {},
     "output_type": "execute_result"
    }
   ],
   "source": [
    "GPU_AVAILABLE = torch.cuda.is_available()\n",
    "GPU_AVAILABLE"
   ]
  },
  {
   "cell_type": "markdown",
   "metadata": {},
   "source": [
    "## Load up the datasets and examine a sample datapoint"
   ]
  },
  {
   "cell_type": "code",
   "execution_count": 5,
   "metadata": {},
   "outputs": [],
   "source": [
    "data_root = Path('../data')"
   ]
  },
  {
   "cell_type": "code",
   "execution_count": 6,
   "metadata": {},
   "outputs": [],
   "source": [
    "test_ds = MnistDataset(data_root, 'test')\n",
    "train_ds = MnistDataset(data_root, 'train')"
   ]
  },
  {
   "cell_type": "code",
   "execution_count": 7,
   "metadata": {},
   "outputs": [],
   "source": [
    "sample_datapoint = train_ds[0]"
   ]
  },
  {
   "cell_type": "code",
   "execution_count": 8,
   "metadata": {},
   "outputs": [
    {
     "data": {
      "text/plain": [
       "dict_keys(['x', 'Y'])"
      ]
     },
     "execution_count": 8,
     "metadata": {},
     "output_type": "execute_result"
    }
   ],
   "source": [
    "sample_datapoint.keys()"
   ]
  },
  {
   "cell_type": "markdown",
   "metadata": {},
   "source": [
    "## Define a simple 2D convolutional model"
   ]
  },
  {
   "cell_type": "markdown",
   "metadata": {},
   "source": [
    "Here's a picture of the network that we're going to use. (Credit: https://codetolight.wordpress.com/2017/11/29/getting-started-with-pytorch-for-deep-learning-part-3-neural-network-basics/)\n",
    "\n",
    "Below that is the code and then a line-by-line explanation of the code.\n",
    "\n",
    "![MNIST_2D_CONV.png](MNIST_2D_CONV.png)\n"
   ]
  },
  {
   "cell_type": "code",
   "execution_count": 9,
   "metadata": {},
   "outputs": [],
   "source": [
    "class MnistModel(nn.Module):\n",
    "    def __init__(self):\n",
    "        super(MnistModel, self).__init__()\n",
    "        # input is 28x28\n",
    "        # padding=2 for same padding\n",
    "\n",
    "        self.conv1 = nn.Conv2d(1, 32, 5, padding=2)\n",
    "        # feature map size is 14 * 14 by pooling\n",
    "        # padding=2 for same padding\n",
    "\n",
    "        self.conv2 = nn.Conv2d(32, 64, 5, padding=2)\n",
    "        # feature map size is 7 * 7 by pooling\n",
    "\n",
    "        self.linear_layer1 = nn.Linear(64 * 7 * 7, 100)\n",
    "        self.linear_layer2 = nn.Linear(100, 10)\n",
    "\n",
    "        self.relu = nn.ReLU()\n",
    "        self.dropout = nn.Dropout(0.25)\n",
    "        self.maxpool = nn.MaxPool2d(2)\n",
    "        # Note: for clarity, we're using softmax, not log_softmax here\n",
    "        self.softmax = nn.Softmax(dim=1)\n",
    "        \n",
    "    def forward(self, x):\n",
    "        # Layer 1:\n",
    "        x = self.conv1(x)\n",
    "        x = self.relu(x)\n",
    "        x = self.maxpool(x)\n",
    "\n",
    "        # Layer 2 (same thing but more concise code and with conv2 not conv1):\n",
    "        x = self.maxpool(self.relu(self.conv2(x)))\n",
    "\n",
    "        # Now convert from a 7x7 image to a flat 1D vector\n",
    "        x = x.view(-1, 64 * 7 * 7)   # reshape Variable\n",
    "\n",
    "        # Layer 3 (the linear layer):\n",
    "        x = self.linear_layer1(x)\n",
    "        x = self.relu(x)\n",
    "        x = self.dropout(x)\n",
    "        x = self.linear_layer2(x)\n",
    "        return self.softmax(x)"
   ]
  },
  {
   "cell_type": "markdown",
   "metadata": {},
   "source": [
    "This code defines a PyTorch model class called `MnistModel` for classifying MNIST images. The model is a type of convolutional neural network (CNN), which is commonly used for image classification tasks.\n",
    "\n",
    "Here's a breakdown of what each part of the code does:\n",
    "\n",
    "- `class MnistModel(nn.Module):` This line defines the `MnistModel` class, which inherits from the `nn.Module` class. In PyTorch, all neural network models should inherit from `nn.Module`.\n",
    "### The `__init__` method\n",
    "\n",
    "- `def __init__(self):` This method is the initializer of the class. It's where we define the layers of the neural network.\n",
    "\n",
    "- `super(MnistModel, self).__init__():` This line calls the initializer of the parent class (`nn.Module`). This is necessary to ensure that the `MnistModel` class is properly initialized.\n",
    "\n",
    "- `self.conv1 = nn.Conv2d(1, 32, 5, padding=2):` This line defines a 2D convolutional layer with 1 input channel, 32 output channels, a kernel size of 5, and padding of 2. Convolutional layers are used to extract features from the input image.\n",
    "\n",
    "- `self.conv2 = nn.Conv2d(32, 64, 5, padding=2):` This line defines another 2D convolutional layer, this time with 32 input channels and 64 output channels.\n",
    "\n",
    "- `self.linear_layer1 = nn.Linear(64 * 7 * 7, 1024):` This line defines a linear (or fully connected) layer that takes a flat input of size 64 * 7 * 7 and outputs a vector of size 1024.\n",
    "\n",
    "- `self.linear_layer2 = nn.Linear(1024, 10):` This line defines another linear layer that takes an input of size 1024 and outputs a vector of size 10.\n",
    "\n",
    "- `self.relu = nn.ReLU():` This line defines a ReLU (Rectified Linear Unit) activation function, which is used to introduce non-linearity into the model.\n",
    "\n",
    "- `self.dropout = nn.Dropout(0.5):` This line defines a dropout layer with a dropout rate of 0.5. Dropout is a regularization technique that helps to prevent overfitting.\n",
    "\n",
    "- `self.maxpool = nn.MaxPool2d(2):` This line defines a 2D max pooling layer with a kernel size of 2. Max pooling is used to downsample the feature maps.\n",
    "\n",
    "- `self.softmax = nn.Softmax(dim=1):` This line defines a softmax function, which is used to convert the output of the model into a probability distribution over the 10 classes.\n",
    "\n",
    "### The `forward` method\n",
    "- `def forward(self, x):` This method defines the forward pass of the model, i.e., how the input data `x` is processed by the layers of the network to produce the output.\n",
    "\n",
    "- `x = self.conv1(x)`, `x = self.relu(x)`, `x = self.maxpool(x)`: These lines pass the input data through the first convolutional layer, apply the ReLU activation function, and then apply max pooling.\n",
    "\n",
    "- `x = self.maxpool(self.relu(self.conv2(x)))`: This line does the same thing for the second convolutional layer, but in a more concise way.\n",
    "\n",
    "- `x = x.view(-1, 64 * 7 * 7)`: This line reshapes the 2D feature maps into a 1D vector, which is necessary for passing the data through the linear layers.\n",
    "\n",
    "- `x = self.linear_layer1(x)`, `x = self.relu(x)`, `x = self.dropout(x)`, `x = self.linear_layer2(x)`: These lines pass the data through the first linear layer, apply the ReLU activation function, apply dropout, and then pass the data through the second linear layer.\n",
    "\n",
    "- `return self.softmax(x)`: This line applies the softmax function to the output of the model, converting it into a probability distribution over the 10 classes."
   ]
  },
  {
   "cell_type": "markdown",
   "metadata": {},
   "source": [
    "Now let's initialise the model."
   ]
  },
  {
   "cell_type": "code",
   "execution_count": 10,
   "metadata": {},
   "outputs": [
    {
     "data": {
      "text/plain": [
       "MnistModel(\n",
       "  (conv1): Conv2d(1, 32, kernel_size=(5, 5), stride=(1, 1), padding=(2, 2))\n",
       "  (conv2): Conv2d(32, 64, kernel_size=(5, 5), stride=(1, 1), padding=(2, 2))\n",
       "  (linear_layer1): Linear(in_features=3136, out_features=100, bias=True)\n",
       "  (linear_layer2): Linear(in_features=100, out_features=10, bias=True)\n",
       "  (relu): ReLU()\n",
       "  (dropout): Dropout(p=0.25, inplace=False)\n",
       "  (maxpool): MaxPool2d(kernel_size=2, stride=2, padding=0, dilation=1, ceil_mode=False)\n",
       "  (softmax): Softmax(dim=1)\n",
       ")"
      ]
     },
     "execution_count": 10,
     "metadata": {},
     "output_type": "execute_result"
    }
   ],
   "source": [
    "model = MnistModel()\n",
    "model = model.cuda() if GPU_AVAILABLE else model\n",
    "model"
   ]
  },
  {
   "cell_type": "markdown",
   "metadata": {},
   "source": [
    "Next step - we're just going to put a single datapoint through model.\n",
    "\n",
    "Things to note:\n",
    "- To get a single datapoint into the model, we need to do the slightly weird ``unsqueeze(0)`` bit. Don't worry about that. It's just compensating for the fact that the model is expecting multiple datapoints and we're only giving it one.\n",
    "- The model outputs something like confidence scores. However, to make the maths easier and faster, we usually output the log of the confidences scores. One day, when you're bored, you can look it up and see why it makes the maths so much easier and faster. So, in the real world, I'd replace `nn.Softmax` with `nn.LogSoftmax`. Further down, the loss function (`CrossEntropyLoss`) would need to be replaced with `NLLLoss`. But that's for another day!"
   ]
  },
  {
   "cell_type": "code",
   "execution_count": 11,
   "metadata": {},
   "outputs": [
    {
     "data": {
      "text/plain": [
       "tensor([[0.1097, 0.0986, 0.0969, 0.0899, 0.0925, 0.1006, 0.1034, 0.0986, 0.1041,\n",
       "         0.1057]], device='cuda:0', grad_fn=<SoftmaxBackward0>)"
      ]
     },
     "execution_count": 11,
     "metadata": {},
     "output_type": "execute_result"
    }
   ],
   "source": [
    "x, y = sample_datapoint['x'], sample_datapoint['Y']\n",
    "if GPU_AVAILABLE:\n",
    "    x = x.cuda()\n",
    "    y = y.cuda()\n",
    "logits = model(x.unsqueeze(0))\n",
    "logits"
   ]
  },
  {
   "cell_type": "markdown",
   "metadata": {},
   "source": [
    "In the output above:\n",
    "- the first figure is the model's confidence that this digit is a zero\n",
    "- the second figure is the model's confidence that this digit is a 1\n",
    "- and so on\n",
    "\n",
    "We call these confidence scores \"logits\".\n",
    "\n",
    "So, to get the model's prediction, we need to find which confidence score is the biggest."
   ]
  },
  {
   "cell_type": "code",
   "execution_count": 12,
   "metadata": {},
   "outputs": [
    {
     "data": {
      "text/plain": [
       "(tensor([0.1097], device='cuda:0', grad_fn=<MaxBackward0>),\n",
       " tensor([0], device='cuda:0'))"
      ]
     },
     "execution_count": 12,
     "metadata": {},
     "output_type": "execute_result"
    }
   ],
   "source": [
    "confidence_value, prediction = torch.max(logits, dim=1)\n",
    "confidence_value, prediction"
   ]
  },
  {
   "cell_type": "markdown",
   "metadata": {},
   "source": [
    "## Getting the data into the model in batches"
   ]
  },
  {
   "cell_type": "code",
   "execution_count": 13,
   "metadata": {},
   "outputs": [],
   "source": [
    "batch_size = 100\n",
    "train_dl = DataLoader(train_ds, batch_size=batch_size, shuffle=True)\n",
    "test_dl = DataLoader(test_ds, batch_size=batch_size, shuffle=False)"
   ]
  },
  {
   "cell_type": "code",
   "execution_count": 14,
   "metadata": {},
   "outputs": [
    {
     "data": {
      "text/plain": [
       "(torch.Size([100, 1, 28, 28]), torch.Size([100]))"
      ]
     },
     "execution_count": 14,
     "metadata": {},
     "output_type": "execute_result"
    }
   ],
   "source": [
    "batch = next(iter(train_dl))\n",
    "batch['x'].shape, batch['Y'].shape"
   ]
  },
  {
   "cell_type": "code",
   "execution_count": 15,
   "metadata": {},
   "outputs": [
    {
     "data": {
      "text/plain": [
       "tensor([2, 7, 8, 0, 5, 5, 2, 2, 2, 6, 2, 1, 0, 3, 9])"
      ]
     },
     "execution_count": 15,
     "metadata": {},
     "output_type": "execute_result"
    }
   ],
   "source": [
    "# These are the correct for the first 15 images in the batch:\n",
    "batch['Y'][:15]"
   ]
  },
  {
   "cell_type": "markdown",
   "metadata": {},
   "source": [
    "## Train the model\n",
    "\n"
   ]
  },
  {
   "cell_type": "markdown",
   "metadata": {},
   "source": [
    "There are two more things that we need to train the model.\n",
    "- The loss function compares the model's prediction with the correct answer and returns a score.\n",
    "    - The absolute standard loss function is call Cross Entropy Loss and it's what we're using here.\n",
    "- The Optimiser tells the model how much it should change each of its weights, based on the output of the loss function.\n",
    "    - My standard is to try lots of things and almost always come back to using an Adam optimiser!\n",
    "    - lr is the learning rate and it says how much the model should update itself based on the loss.\n",
    "    - A higher learning rate means that that the model can learn faster but it also makes it less accurate and sometimes means that it won't train at all."
   ]
  },
  {
   "cell_type": "code",
   "execution_count": 16,
   "metadata": {},
   "outputs": [],
   "source": [
    "loss_function = nn.CrossEntropyLoss()\n",
    "optimizer = torch.optim.Adam(model.parameters(), lr=0.001)"
   ]
  },
  {
   "cell_type": "markdown",
   "metadata": {},
   "source": [
    "The following function trains a single batch of data.\n",
    "\n",
    "There are lots of inline comments (the text following each #) to explain what it's doing."
   ]
  },
  {
   "cell_type": "code",
   "execution_count": 17,
   "metadata": {},
   "outputs": [],
   "source": [
    "def train_batch(model, batch, optimizer, loss_function):\n",
    "    \"\"\"\n",
    "    Trains the model on a single batch of data.\n",
    "\n",
    "    Args:\n",
    "        model (nn.Module): The PyTorch model to train.\n",
    "        batch (dict): A dictionary containing the input data and labels for a single batch.\n",
    "        optimizer (torch.optim.Optimizer): The optimizer to use for training.\n",
    "        loss_function (nn.Module): The loss function to use for training.\n",
    "\n",
    "    Returns:\n",
    "        float: The loss value for the batch.\n",
    "    \"\"\"\n",
    "    # Get the input data and labels from the batch\n",
    "    x, y = batch['x'], batch['Y']\n",
    "    # Move the data to the correct device, that is, onto the GPU if we have one available.\n",
    "    if GPU_AVAILABLE:\n",
    "        x, y = x.cuda(), y.cuda()\n",
    "\n",
    "    # This next line is boilerplate PyTorch. It tells PyTorch to reset all gradients.\n",
    "    # You'll use this line as-is most of the time.\n",
    "    optimizer.zero_grad()\n",
    "\n",
    "    # Compute the output of the model using the input data.\n",
    "    output = model(x)\n",
    "    # Calculate the loss using the output of the model and the correct labels.\n",
    "    loss = loss_function(output, y)\n",
    "\n",
    "    # This next lines are also boilerplate PyTorch.You'll use them as-is most of the time.\n",
    "    # loss.backward() tells PyTorch to compute gradients based on the loss function.\n",
    "    loss.backward()\n",
    "    # optimizer.step() tells PyTorch to update the model parameters based on those gradients.\n",
    "    optimizer.step()\n",
    "\n",
    "    return loss.item()\n"
   ]
  },
  {
   "cell_type": "markdown",
   "metadata": {},
   "source": [
    "The output of each batch is a _loss_ score.\n",
    "\n",
    "It's a measure of how badly the model did on that batch. The larger the score, the worse the model is doing. There is a further note on loss below.\n",
    "\n",
    "Don't worry too much about the exact number. The key thing is that, as we train multiple batches, the loss score should decrease."
   ]
  },
  {
   "cell_type": "code",
   "execution_count": 18,
   "metadata": {},
   "outputs": [
    {
     "data": {
      "text/plain": [
       "2.3027896881103516"
      ]
     },
     "execution_count": 18,
     "metadata": {},
     "output_type": "execute_result"
    }
   ],
   "source": [
    "loss = train_batch(model, batch, optimizer, loss_function)\n",
    "loss"
   ]
  },
  {
   "cell_type": "code",
   "execution_count": 19,
   "metadata": {},
   "outputs": [],
   "source": [
    "def train_epoch(model, train_dl, optimizer, loss_function):\n",
    "    \"\"\"\n",
    "    Trains the model for a single epoch.\n",
    "\n",
    "    Args:\n",
    "        model (nn.Module): The PyTorch model to train.\n",
    "        train_dl (DataLoader): The DataLoader containing the training data.\n",
    "        optimizer (torch.optim.Optimizer): The optimizer to use for training.\n",
    "        loss_function (nn.Module): The loss function to use for training.\n",
    "\n",
    "    Returns:\n",
    "        float: The average loss value for the epoch.\n",
    "    \"\"\"\n",
    "    total_loss = 0\n",
    "    num_batches = len(train_dl)\n",
    "    running_loss = 0\n",
    "    print_every = 10\n",
    "    model.train() # set model to training mode\n",
    "\n",
    "    for i, batch in enumerate(train_dl):\n",
    "\n",
    "        # This next line is all that we need to run through the train set once.\n",
    "        batch_loss = train_batch(model, batch, optimizer, loss_function)\n",
    "\n",
    "        # We'll keep track of the total loss so that we can calculate the average loss at the end.\n",
    "        total_loss += batch_loss\n",
    "\n",
    "        # Every so often, we'll print the average loss so far.\n",
    "        # Note, the actual value of the loss won't mean very much to you.\n",
    "        # The main thing is that we should see it decreasing steadily as we train.\n",
    "        running_loss += batch_loss\n",
    "        if (i+1) % print_every == 0:\n",
    "            print(f'Batch {i+1} - Running loss: {running_loss/print_every:.3f}')\n",
    "            running_loss = 0\n",
    "\n",
    "    return total_loss / num_batches\n"
   ]
  },
  {
   "cell_type": "markdown",
   "metadata": {},
   "source": [
    "If you don't have time to run this, we can skip the training by loading the model"
   ]
  },
  {
   "cell_type": "code",
   "execution_count": null,
   "metadata": {},
   "outputs": [],
   "source": [
    "map_location = torch.device('cpu') if GPU_AVAILABLE else torch.device('cuda')\n",
    "model.load_state_dict(torch.load('../saved_model/model.pt', map_location=torch.device('cpu')))"
   ]
  },
  {
   "cell_type": "markdown",
   "metadata": {},
   "source": [
    "If you do have time to run the model, here's how you do that."
   ]
  },
  {
   "cell_type": "code",
   "execution_count": 20,
   "metadata": {},
   "outputs": [
    {
     "name": "stdout",
     "output_type": "stream",
     "text": [
      "600\n",
      "Batch 10 - Running loss: 2.265\n",
      "Batch 20 - Running loss: 2.082\n",
      "Batch 30 - Running loss: 1.916\n",
      "Batch 40 - Running loss: 1.816\n",
      "Batch 50 - Running loss: 1.789\n",
      "Batch 60 - Running loss: 1.793\n",
      "Batch 70 - Running loss: 1.758\n",
      "Batch 80 - Running loss: 1.692\n",
      "Batch 90 - Running loss: 1.683\n",
      "Batch 100 - Running loss: 1.661\n",
      "Batch 110 - Running loss: 1.661\n",
      "Batch 120 - Running loss: 1.618\n",
      "Batch 130 - Running loss: 1.607\n",
      "Batch 140 - Running loss: 1.574\n",
      "Batch 150 - Running loss: 1.567\n",
      "Batch 160 - Running loss: 1.568\n",
      "Batch 170 - Running loss: 1.567\n",
      "Batch 180 - Running loss: 1.550\n",
      "Batch 190 - Running loss: 1.536\n",
      "Batch 200 - Running loss: 1.531\n",
      "Batch 210 - Running loss: 1.524\n",
      "Batch 220 - Running loss: 1.534\n",
      "Batch 230 - Running loss: 1.529\n",
      "Batch 240 - Running loss: 1.521\n",
      "Batch 250 - Running loss: 1.525\n",
      "Batch 260 - Running loss: 1.519\n",
      "Batch 270 - Running loss: 1.515\n",
      "Batch 280 - Running loss: 1.516\n",
      "Batch 290 - Running loss: 1.520\n",
      "Batch 300 - Running loss: 1.518\n",
      "Batch 310 - Running loss: 1.513\n",
      "Batch 320 - Running loss: 1.514\n",
      "Batch 330 - Running loss: 1.512\n",
      "Batch 340 - Running loss: 1.508\n",
      "Batch 350 - Running loss: 1.508\n",
      "Batch 360 - Running loss: 1.524\n",
      "Batch 370 - Running loss: 1.502\n",
      "Batch 380 - Running loss: 1.516\n",
      "Batch 390 - Running loss: 1.510\n",
      "Batch 400 - Running loss: 1.508\n",
      "Batch 410 - Running loss: 1.511\n",
      "Batch 420 - Running loss: 1.497\n",
      "Batch 430 - Running loss: 1.504\n",
      "Batch 440 - Running loss: 1.501\n",
      "Batch 450 - Running loss: 1.512\n",
      "Batch 460 - Running loss: 1.516\n",
      "Batch 470 - Running loss: 1.510\n",
      "Batch 480 - Running loss: 1.503\n",
      "Batch 490 - Running loss: 1.517\n",
      "Batch 500 - Running loss: 1.513\n",
      "Batch 510 - Running loss: 1.506\n",
      "Batch 520 - Running loss: 1.500\n",
      "Batch 530 - Running loss: 1.498\n",
      "Batch 540 - Running loss: 1.510\n",
      "Batch 550 - Running loss: 1.497\n",
      "Batch 560 - Running loss: 1.504\n",
      "Batch 570 - Running loss: 1.500\n",
      "Batch 580 - Running loss: 1.503\n",
      "Batch 590 - Running loss: 1.499\n",
      "Batch 600 - Running loss: 1.493\n"
     ]
    },
    {
     "data": {
      "text/plain": [
       "1.5776780200004579"
      ]
     },
     "execution_count": 20,
     "metadata": {},
     "output_type": "execute_result"
    }
   ],
   "source": [
    "print(len(train_dl))\n",
    "train_epoch(model, train_dl, optimizer, loss_function)"
   ]
  },
  {
   "cell_type": "code",
   "execution_count": 21,
   "metadata": {},
   "outputs": [],
   "source": [
    "def test_model(model, test_dl):\n",
    "    \"\"\"\n",
    "    Tests the model on the test data.\n",
    "\n",
    "    Args:\n",
    "        model (nn.Module): The PyTorch model to test.\n",
    "        test_dl (DataLoader): The DataLoader containing the test data.\n",
    "\n",
    "    Returns:\n",
    "        float: The accuracy of the model on the test data.\n",
    "    \"\"\"\n",
    "    correct = 0\n",
    "    total = 0\n",
    "    model.eval()\n",
    "    with torch.no_grad(): # We don't need to calculate gradients, so we can turn them off to save memory and computation\n",
    "        for batch in test_dl:\n",
    "            x, y = batch['x'], batch['Y']\n",
    "            if GPU_AVAILABLE:\n",
    "                x, y = x.cuda(), y.cuda()\n",
    "            outputs = model(x)\n",
    "            _, predicted = torch.max(outputs.data, 1)\n",
    "            total += y.size(0)\n",
    "            correct += (predicted == y).sum().item()\n",
    "\n",
    "    accuracy = 100 * correct / total\n",
    "    return accuracy\n"
   ]
  },
  {
   "cell_type": "markdown",
   "metadata": {},
   "source": [
    "### Line by line explanation of the test_model function\n",
    "\n",
    "The `test_model` function is used to evaluate the performance of a trained PyTorch model on a test dataset. Here's a breakdown of what each line does:\n",
    "\n",
    "1. `def test_model(model, test_dl):` This line defines the function `test_model` which takes two arguments: `model` (the trained PyTorch model) and `test_dl` (a DataLoader object that loads the test data).\n",
    "\n",
    "2. `correct = 0` and `total = 0`: These lines initialize two counters, `correct` and `total`, to 0. `correct` will keep track of the number of predictions the model gets right, and `total` will keep track of the total number of predictions.\n",
    "\n",
    "3. `model.eval()`: This line sets the model to evaluation mode. This is necessary because some types of layers, like dropout and batch normalization, behave differently during training and evaluation.\n",
    "\n",
    "4. `with torch.no_grad():` This line tells PyTorch not to build the computation graph during the following block of code. This is because we don't need to compute gradients during evaluation, which saves memory and computation.\n",
    "\n",
    "5. `for batch in test_dl:` This line starts a loop over the batches of test data.\n",
    "\n",
    "6. `x, y = batch['x'], batch['Y']`: This line unpacks the input data (`x`) and labels (`y`) from the current batch.\n",
    "\n",
    "7. `if GPU_AVAILABLE: x, y = x.cuda(), y.cuda()`: If a GPU is available, this line moves the input data and labels to the GPU.\n",
    "\n",
    "8. `outputs = model(x)`: This line passes the input data through the model, which computes the forward pass and returns the output.\n",
    "\n",
    "9. `_, predicted = torch.max(outputs.data, 1)`: This line finds the index of the maximum value in the output, which corresponds to the model's prediction.\n",
    "\n",
    "10. `total += y.size(0)`: This line increments the total count by the number of labels in the current batch.\n",
    "\n",
    "11. `correct += (predicted == y).sum().item()`: This line increments the correct count by the number of correct predictions in the current batch.\n",
    "\n",
    "12. `accuracy = 100 * correct / total`: This line calculates the accuracy of the model on the test data as the percentage of correct predictions.\n",
    "\n",
    "13. `return accuracy`: This line returns the calculated accuracy."
   ]
  },
  {
   "cell_type": "code",
   "execution_count": 22,
   "metadata": {},
   "outputs": [
    {
     "data": {
      "text/plain": [
       "97.44"
      ]
     },
     "execution_count": 22,
     "metadata": {},
     "output_type": "execute_result"
    }
   ],
   "source": [
    "test_model(model, test_dl)"
   ]
  },
  {
   "cell_type": "markdown",
   "metadata": {},
   "source": [
    "Usually, we would train for a number of epochs and check our test accuracy after each one. The code would look like this:\n",
    "```\n",
    "num_epochs = 10\n",
    "for epoch in range(num_epochs):\n",
    "    print('Epoch:', epoch)\n",
    "    train_epoch(model, train_dl, optimizer, loss_function)\n",
    "    test_model(model, test_dl)\n",
    "```\n",
    "\n",
    "If you want to run your model for multiple epochs, paste this code into a new cell and run it."
   ]
  },
  {
   "cell_type": "markdown",
   "metadata": {},
   "source": [
    "### Saving the model"
   ]
  },
  {
   "cell_type": "code",
   "execution_count": 28,
   "metadata": {},
   "outputs": [],
   "source": [
    "torch.save(model.state_dict(), '../saved_model/model.pt')\n"
   ]
  },
  {
   "cell_type": "markdown",
   "metadata": {},
   "source": [
    "### Looking at some examples\n",
    "\n",
    "The code below is not necessary to train the model. However, it gives us the chance to see how the model does predicting different items in the test dataset."
   ]
  },
  {
   "cell_type": "code",
   "execution_count": 23,
   "metadata": {},
   "outputs": [],
   "source": [
    "def display_prediction(model, dataset, index=None):\n",
    "    \"\"\"\n",
    "    Displays a single digit from the test dataset and the model's prediction for it.\n",
    "\n",
    "    Args:\n",
    "        model (nn.Module): The PyTorch model to use for prediction.\n",
    "        dataset (Dataset): The PyTorch dataset to use for prediction.\n",
    "        index (int, optional): The index of the datapoint to display. If not provided, a random datapoint will be selected.\n",
    "\n",
    "    Returns:\n",
    "        None\n",
    "    \"\"\"\n",
    "    # If no index has been supplied, select a random datapoint from the dataset\n",
    "    idx = index if index is not None else np.random.randint(len(dataset))\n",
    "    datapoint = dataset[idx]\n",
    "\n",
    "    # Get the model's prediction for the datapoint\n",
    "    x, y = datapoint['x'], datapoint['Y']\n",
    "    if GPU_AVAILABLE:\n",
    "        x = x.cuda()\n",
    "    confidence_scores = model(x.unsqueeze(0))\n",
    "    predicted_class = torch.argmax(confidence_scores, dim=1).item()\n",
    "\n",
    "    # Display the digit and the model's prediction\n",
    "    plt.imshow(x.squeeze().cpu(), cmap='gray')\n",
    "    plt.title(f'Index: {idx}, True: {y.item()}, Predicted: {predicted_class}')\n",
    "    plt.axis('off')\n",
    "    plt.show()\n"
   ]
  },
  {
   "cell_type": "markdown",
   "metadata": {},
   "source": [
    "Let's display a random prediction"
   ]
  },
  {
   "cell_type": "code",
   "execution_count": 24,
   "metadata": {},
   "outputs": [
    {
     "data": {
      "image/png": "[encoded data removed]",
      "text/plain": [
       "<Figure size 640x480 with 1 Axes>"
      ]
     },
     "metadata": {},
     "output_type": "display_data"
    }
   ],
   "source": [
    "display_prediction(model, test_ds)"
   ]
  },
  {
   "cell_type": "markdown",
   "metadata": {},
   "source": [
    "Now let's find an item that the model got wrong."
   ]
  },
  {
   "cell_type": "code",
   "execution_count": 25,
   "metadata": {},
   "outputs": [],
   "source": [
    "def find_incorrect_prediction(model: nn.Module, dataset: Dataset, num_predictions: int = 10):\n",
    "    \"\"\"\n",
    "    Finds a specified number of incorrect predictions made by a PyTorch model on a dataset.\n",
    "\n",
    "    Args:\n",
    "        model (nn.Module): The PyTorch model to use for prediction.\n",
    "        dataset (Dataset): The PyTorch dataset to use for prediction.\n",
    "        num_predictions (int): The number of incorrect predictions to find.\n",
    "\n",
    "    Returns:\n",
    "        List[Tuple[int, int]]: A list of tuples containing the index of each incorrect prediction and the model's predicted class for that prediction.\n",
    "    \"\"\"\n",
    "    # Initialize an empty list to store the incorrect predictions\n",
    "    incorrect_predictions = []\n",
    "    \n",
    "    # Set the model to evaluation mode so that it is not learning. This will also turn off dropout.\n",
    "    model.eval()\n",
    "    \n",
    "    # Turn off gradient calculation to save memory and computation\n",
    "    with torch.no_grad():\n",
    "        for i, datapoint in enumerate(dataset):\n",
    "\n",
    "            # Get the input data and label for the datapoint\n",
    "            x, y = datapoint['x'], datapoint['Y']\n",
    "            # Move the input data and label to the GPU if available\n",
    "            if GPU_AVAILABLE:\n",
    "                x, y = x.cuda(), y.cuda()\n",
    "            \n",
    "            # Pass the input data through the model to get the predicted class\n",
    "            confidence_scores = model(x.unsqueeze(0))\n",
    "            predicted_class = torch.argmax(confidence_scores, dim=1).item()\n",
    "            \n",
    "            # If the predicted class is not equal to the true label, add the datapoint index and predicted class to the list of incorrect predictions\n",
    "            if predicted_class != y.item():\n",
    "                incorrect_predictions.append((i, y.item(), predicted_class))\n",
    "                \n",
    "                # If we have found the specified number of incorrect predictions, break out of the loop\n",
    "                if len(incorrect_predictions) == num_predictions:\n",
    "                    break\n",
    "\n",
    "    # Return the list of incorrect predictions\n",
    "    return incorrect_predictions\n"
   ]
  },
  {
   "cell_type": "code",
   "execution_count": 26,
   "metadata": {},
   "outputs": [
    {
     "data": {
      "text/plain": [
       "[(78, 9, 8),\n",
       " (151, 9, 8),\n",
       " (241, 9, 8),\n",
       " (247, 4, 2),\n",
       " (259, 6, 0),\n",
       " (264, 9, 8),\n",
       " (290, 8, 4),\n",
       " (320, 9, 8),\n",
       " (321, 2, 7),\n",
       " (340, 5, 3)]"
      ]
     },
     "execution_count": 26,
     "metadata": {},
     "output_type": "execute_result"
    }
   ],
   "source": [
    "find_incorrect_prediction(model, test_ds)"
   ]
  },
  {
   "cell_type": "code",
   "execution_count": 27,
   "metadata": {},
   "outputs": [
    {
     "data": {
      "image/png": "[encoded data removed]",
      "text/plain": [
       "<Figure size 640x480 with 1 Axes>"
      ]
     },
     "metadata": {},
     "output_type": "display_data"
    }
   ],
   "source": [
    "display_prediction(model, test_ds, 78)"
   ]
  },
  {
   "cell_type": "markdown",
   "metadata": {},
   "source": [
    "### A further note on loss\n",
    "\n",
    "Ideally, the model would produce a confidence score of 1 for the correct answer and zero for all of the others. So, if the correct answer is _2_, the model should output:\n",
    "\n",
    "[0, 0, 1.0, 0, 0, 0, 0, 0, 0, 0]\n",
    "\n",
    "(Note that the first digit is the confidence score for zero, which is why the third digit actually corresponds the confidence for the number 2.)\n",
    "\n",
    "In reality, it might produce something like this:\n",
    "\n",
    "[0.01, 0.02, **0.91**, 0.0, 0.01, 0.005, 0.003, 0.02, 0.002, 0.02]\n",
    "\n",
    "Note: it still got the right answer - the highest confidence score is for the number 2. However, even when it gets the right answer, unless it does it perfectly, i.e. with a confidence of 1 for the correct answer and zero for the rest, there will still be a loss.\n",
    "\n",
    "In this way, the model learns to be more confident about the correct answer."
   ]
  },
  {
   "cell_type": "markdown",
   "metadata": {},
   "source": []
  }
 ],
 "metadata": {
  "kernelspec": {
   "display_name": "graphml",
   "language": "python",
   "name": "python3"
  },
  "language_info": {
   "codemirror_mode": {
    "name": "ipython",
    "version": 3
   },
   "file_extension": ".py",
   "mimetype": "text/x-python",
   "name": "python",
   "nbconvert_exporter": "python",
   "pygments_lexer": "ipython3",
   "version": "3.7.12"
  }
 },
 "nbformat": 4,
 "nbformat_minor": 2
}
