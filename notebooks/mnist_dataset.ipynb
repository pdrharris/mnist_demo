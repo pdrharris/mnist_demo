{
 "cells": [
  {
   "cell_type": "markdown",
   "metadata": {},
   "source": [
    "# Read me first - you do not need to run this\n",
    "This notebook contains the code for the dataset.\n",
    "\n",
    "As you will see, the dataset is a block of code that feeds the data one image at a time to the model.\n",
    "\n",
    "However, when we use this code for our model, we will use a copy stored in the mnist_dataset.py (as opposed to mnist_dataset.ipynb) file. That means that we can simply import it with a single command, which is much neater.\n",
    "\n",
    "However, running this notebook explains how the code works, which I hope will be useful to you.  It also gives a worked example of a Python class."
   ]
  },
  {
   "cell_type": "markdown",
   "metadata": {},
   "source": [
    "The first thing that we need to do is import the python libraries that we're going to use. This is usually the first part of any script."
   ]
  },
  {
   "cell_type": "code",
   "execution_count": 1,
   "metadata": {},
   "outputs": [],
   "source": [
    "from typing import Dict\n",
    "from pathlib import Path\n",
    "import pandas as pd\n",
    "import torch\n",
    "from torch.utils.data import Dataset\n",
    "from torchvision.io import read_image\n",
    "\n",
    "import matplotlib.pyplot as plt\n",
    "import matplotlib.image as mpimg"
   ]
  },
  {
   "cell_type": "markdown",
   "metadata": {},
   "source": [
    "We have split our data into 'train' and 'test'.\n",
    "\n",
    "In each of these, we have two basic things:\n",
    "- A load of png files, each with a drawing of a single digit on it.\n",
    "- A csv file that says which digit each file is showing. Let's have a look!"
   ]
  },
  {
   "cell_type": "markdown",
   "metadata": {},
   "source": [
    "The following cell establishes where the data is stored.\n",
    "\n",
    "There is a folder '../data' that contains all of the images\n",
    "\n",
    "Underneath that, there is a folder 'test' that contains all of the test images.\n",
    "\n",
    "The use of Path just helps us write neater code. You can use this is a template. If you need to google it, google 'pathlib Path' for the full info."
   ]
  },
  {
   "cell_type": "code",
   "execution_count": 2,
   "metadata": {},
   "outputs": [
    {
     "data": {
      "text/plain": [
       "'..\\\\data\\\\test'"
      ]
     },
     "execution_count": 2,
     "metadata": {},
     "output_type": "execute_result"
    }
   ],
   "source": [
    "data_root = Path('../data')\n",
    "test_dir = data_root / 'test'\n",
    "str(test_dir)\n"
   ]
  },
  {
   "cell_type": "markdown",
   "metadata": {},
   "source": [
    "Now that we know where the data is stored, we also need to read in our csv file, which tells us which png file corresponds to which digit.\n",
    "\n",
    "For this, we use pandas (here shortened to pd).\n",
    "\n",
    "Pandas is Python's library for dealing with tables of information. It's very powerful and can be fiddly to use. However, we'll try to keep it very simple. Here, ```pd.read_csv```\n",
    " will load the csv file that we saved into a table that we can then read and play with. "
   ]
  },
  {
   "cell_type": "code",
   "execution_count": 3,
   "metadata": {},
   "outputs": [
    {
     "data": {
      "text/html": [
       "<div>\n",
       "<style scoped>\n",
       "    .dataframe tbody tr th:only-of-type {\n",
       "        vertical-align: middle;\n",
       "    }\n",
       "\n",
       "    .dataframe tbody tr th {\n",
       "        vertical-align: top;\n",
       "    }\n",
       "\n",
       "    .dataframe thead th {\n",
       "        text-align: right;\n",
       "    }\n",
       "</style>\n",
       "<table border=\"1\" class=\"dataframe\">\n",
       "  <thead>\n",
       "    <tr style=\"text-align: right;\">\n",
       "      <th></th>\n",
       "      <th>png</th>\n",
       "      <th>label</th>\n",
       "    </tr>\n",
       "  </thead>\n",
       "  <tbody>\n",
       "    <tr>\n",
       "      <th>0</th>\n",
       "      <td>0.png</td>\n",
       "      <td>7</td>\n",
       "    </tr>\n",
       "    <tr>\n",
       "      <th>1</th>\n",
       "      <td>1.png</td>\n",
       "      <td>2</td>\n",
       "    </tr>\n",
       "    <tr>\n",
       "      <th>2</th>\n",
       "      <td>2.png</td>\n",
       "      <td>1</td>\n",
       "    </tr>\n",
       "    <tr>\n",
       "      <th>3</th>\n",
       "      <td>3.png</td>\n",
       "      <td>0</td>\n",
       "    </tr>\n",
       "    <tr>\n",
       "      <th>4</th>\n",
       "      <td>4.png</td>\n",
       "      <td>4</td>\n",
       "    </tr>\n",
       "  </tbody>\n",
       "</table>\n",
       "</div>"
      ],
      "text/plain": [
       "     png  label\n",
       "0  0.png      7\n",
       "1  1.png      2\n",
       "2  2.png      1\n",
       "3  3.png      0\n",
       "4  4.png      4"
      ]
     },
     "execution_count": 3,
     "metadata": {},
     "output_type": "execute_result"
    }
   ],
   "source": [
    "test_df = pd.read_csv(test_dir / 'test.csv')\n",
    "test_df.head()"
   ]
  },
  {
   "cell_type": "markdown",
   "metadata": {},
   "source": [
    "What this table tells us is that the file ```0.png``` is a picture of the number 7.\n",
    "\n",
    "Because we're grown-ups, we'll write a function to display the image from a particular file. This is the function below."
   ]
  },
  {
   "cell_type": "code",
   "execution_count": 4,
   "metadata": {},
   "outputs": [],
   "source": [
    "def display_png(directory: Path, filename: str) -> None:\n",
    "    \"\"\"\n",
    "    Given a directory path and a filename, reads in the PNG file and displays it using Matplotlib.\n",
    "\n",
    "    Args:\n",
    "        directory (Path): The directory containing the PNG file.\n",
    "        filename (str): The name of the PNG file to display.\n",
    "\n",
    "    Returns:\n",
    "        None\n",
    "    \"\"\"\n",
    "    # Construct the full path to the PNG file\n",
    "    file_path = directory / filename\n",
    "\n",
    "    # Read in the PNG file using Matplotlib\n",
    "    img = mpimg.imread(str(file_path))\n",
    "\n",
    "    # Display the PNG file using Matplotlib\n",
    "    plt.imshow(img)\n",
    "    plt.axis('off')\n",
    "    plt.show()"
   ]
  },
  {
   "cell_type": "markdown",
   "metadata": {},
   "source": [
    "Let's try it with our test directory and our first file, ``0.png``."
   ]
  },
  {
   "cell_type": "code",
   "execution_count": 5,
   "metadata": {},
   "outputs": [
    {
     "data": {
      "image/png": "[encoded data removed]",
      "text/plain": [
       "<Figure size 640x480 with 1 Axes>"
      ]
     },
     "metadata": {},
     "output_type": "display_data"
    }
   ],
   "source": [
    "display_png(test_dir, '0.png')"
   ]
  },
  {
   "cell_type": "markdown",
   "metadata": {},
   "source": [
    "As the csv file told us, the file '0.png' is a picture of the number 7."
   ]
  },
  {
   "cell_type": "markdown",
   "metadata": {},
   "source": [
    "# Prepare a dataset"
   ]
  },
  {
   "cell_type": "markdown",
   "metadata": {},
   "source": [
    "The library that we are using to do our machine learning is called ``pytorch``. It is very powerful and is the most popular machine learning library today.\n",
    "\n",
    "Pytorch comes with something called a _Dataset_. This is some code that is already written that we can add to.  When we do that, we are able to make use of a load of code that is already in Pytorch, which takes care of things without our having to think about them.\n",
    "\n",
    "So, the next step is going to be to prepare a dataset."
   ]
  },
  {
   "cell_type": "markdown",
   "metadata": {},
   "source": [
    "The following code is a class. There is an explanation for how the class runs below."
   ]
  },
  {
   "cell_type": "code",
   "execution_count": 6,
   "metadata": {},
   "outputs": [],
   "source": [
    "class MnistDataset(Dataset):\n",
    "    \"\"\"\n",
    "    A custom PyTorch dataset class for loading the MNIST dataset.\n",
    "\n",
    "    The dataset expects to find a directory under data_root called 'train' or 'test'.\n",
    "    This will contain the train or the test data.\n",
    "\n",
    "    The dataset also expects to find a file called 'train.csv' or 'test.csv' in the\n",
    "    specified data directory.\n",
    "        The 'train.csv' or 'test.csv' file should contain a column called 'png' that contains\n",
    "        the name of each image file in the dataset.\n",
    "        The 'train.csv' or 'test.csv' should also contain a column called 'label'\n",
    "        that contains the correct label for each image in the dataset.\n",
    "\n",
    "\n",
    "    Args:\n",
    "        data_root (Path or str): The root directory containing the dataset.\n",
    "        mode (str): The mode of the dataset (either 'train' or 'test').\n",
    "\n",
    "    Attributes:\n",
    "        data_path (Path): The path to the directory for this dataset (the train or the test dataset).\n",
    "        image_info (pd.DataFrame): A Pandas DataFrame containing information about the images in the dataset.\n",
    "\n",
    "    Methods:\n",
    "        __len__: Returns the number of images in the dataset.\n",
    "        __getitem__: Returns the image and label data for the specified index.\n",
    "\n",
    "    Examples:\n",
    "        train_dataset = MnistDataset('/data/mnist_data', 'train')\n",
    "        len(train_dataset)\n",
    "            [returns the length of the dataset]\n",
    "        train_dataset[0]\n",
    "            [returns the image and label data for the first image in the dataset]\n",
    "    \"\"\"\n",
    "\n",
    "    def __init__(self, data_root: Path, mode: str) -> None:\n",
    "        \"\"\"\n",
    "        Initializes a new instance of the MnistDataset class.\n",
    "\n",
    "        Args:\n",
    "            data_root (Path or str): The root directory containing the dataset.\n",
    "            mode (Path): The mode of the dataset (either 'train' or 'test').\n",
    "        \"\"\"\n",
    "        data_root = Path(data_root) # If data_root is a string, convert it to a Path object\n",
    "        self.data_path = data_root / mode\n",
    "        self.image_info = pd.read_csv(self.data_path / f'{mode}.csv')\n",
    "\n",
    "    def __len__(self) -> int:\n",
    "        \"\"\"\n",
    "        Returns the number of images in the dataset.\n",
    "\n",
    "        Returns:\n",
    "            int: The number of images in the dataset.\n",
    "        \"\"\"\n",
    "        return len(self.image_info)\n",
    "\n",
    "    def __getitem__(self, idx: int) -> Dict[str, torch.Tensor]:\n",
    "        \"\"\"\n",
    "        Returns the image and label data for the specified index.\n",
    "\n",
    "        Args:\n",
    "            idx (int): The index of the image to retrieve.\n",
    "\n",
    "        Returns:\n",
    "            Dict[str, torch.Tensor]: A dictionary containing the image and label data.\n",
    "        \"\"\"\n",
    "        row = self.image_info.iloc[idx]\n",
    "        image = read_image(str(self.data_path / row.png)) / 255.0\n",
    "        label = torch.tensor(row.label, dtype=torch.long)\n",
    "        return {'x': image, 'Y': label}"
   ]
  },
  {
   "cell_type": "markdown",
   "metadata": {},
   "source": [
    "Let's break down the Python class principles, using this class as an example:\n",
    "\n",
    "# Python Class Principles Explained\n",
    "\n",
    "In Python, a class is like a blueprint for creating objects. Think of it as a template for things you want to model in your code. Here's how the class `MnistDataset` works:\n",
    "\n",
    "1. **Class Declaration**:\n",
    "\n",
    "   ```python\n",
    "   class MnistDataset(Dataset):\n",
    "   ```\n",
    "   - This line declares a class named `MnistDataset`. It's like giving a name to a new type of thing you want to work with.\n",
    "   - The `(Dataset)` part means that `MnistDataset` is based on or \"inherits\" some abilities from another class called `Dataset`.\n",
    "\n",
    "2. **Class Documentation**:\n",
    "\n",
    "   ```python\n",
    "   \"\"\"\n",
    "   A custom PyTorch dataset class for loading the MNIST dataset.\n",
    "\n",
    "   Args:\n",
    "       data_root (Path): The root directory containing the dataset.\n",
    "       mode (Path): The mode of the dataset (either 'train' or 'test').\n",
    "\n",
    "   Attributes:\n",
    "       data_path (Path): The path to the mode directory.\n",
    "       image_info (pd.DataFrame): A Pandas DataFrame containing information about the images in the dataset.\n",
    "   \"\"\"\n",
    "   ```\n",
    "   - This is a block of comments inside triple quotes. It's like an instruction manual for how to use the `MnistDataset` class.\n",
    "   - It explains what the class does, what information you need to provide when using it, and what kind of things it can do.\n",
    "\n",
    "3. **Constructor (`__init__` method)**:\n",
    "\n",
    "   ```python\n",
    "   def __init__(self, data_root: Path, mode: str) -> None:\n",
    "   ```\n",
    "   - The `__init__` method is like a special function that runs when you create a new `MnistDataset` object. It sets up the initial state of the object.\n",
    "\n",
    "   - It takes two things:\n",
    "     - `data_root` is the folder where the dataset is stored (a directory).\n",
    "     - `mode` is whether you want the training or test part of the dataset (it can be 'train' or 'test').\n",
    "\n",
    "4. **Attributes**:\n",
    "\n",
    "   - The class has two attributes (variables that belong to the class):\n",
    "     - `data_path`: This stores the path to the dataset's folder.\n",
    "     - `image_info`: This stores information about the images in the dataset, like a table of data.\n",
    "\n",
    "   - When you create an `MnistDataset` object, it sets these attributes to the right values based on `data_root` and `mode`.\n",
    "\n",
    "5. **Methods (`__len__` and `__getitem__`)**:\n",
    "\n",
    "   - A class can have functions, and here, we have two of them.\n",
    "\n",
    "   - `__len__` method:\n",
    "     - It tells you how many images are in the dataset. So if you want to know how big the dataset is, you can ask this method.\n",
    "   \n",
    "   - `__getitem__` method:\n",
    "     - This helps you get one image and its label from the dataset. You give it an index (a number), and it gives you the image and label.\n",
    "\n",
    "In a nutshell, classes are like blueprints for making objects. They group together data and functions that work with that data. The `MnistDataset` class, for example, helps you manage the MNIST dataset by storing info about where the data is, how big it is, and how to get specific images and labels. It makes your code more organized and easier to work with."
   ]
  },
  {
   "cell_type": "markdown",
   "metadata": {},
   "source": [
    "So how do we use this class? First, we _instantiate_ it. That is, we create a new object that is a single instance of this class."
   ]
  },
  {
   "cell_type": "code",
   "execution_count": 7,
   "metadata": {},
   "outputs": [],
   "source": [
    "test_ds = MnistDataset(data_root, 'test')\n"
   ]
  },
  {
   "cell_type": "markdown",
   "metadata": {},
   "source": [
    "Then we can use it. The following code gets the first datapoint from our class, the zeroth datapoint."
   ]
  },
  {
   "cell_type": "code",
   "execution_count": 8,
   "metadata": {},
   "outputs": [],
   "source": [
    "first_data_point = test_ds[0]"
   ]
  },
  {
   "cell_type": "markdown",
   "metadata": {},
   "source": [
    "This datapoint contains a dict (google this if you don't know what one is!) with two keys:\n",
    "\n",
    "- x is the input data (the image)\n",
    "- Y is the correct label for that image."
   ]
  },
  {
   "cell_type": "code",
   "execution_count": 9,
   "metadata": {},
   "outputs": [
    {
     "data": {
      "text/plain": [
       "dict_keys(['x', 'Y'])"
      ]
     },
     "execution_count": 9,
     "metadata": {},
     "output_type": "execute_result"
    }
   ],
   "source": [
    "first_data_point.keys()"
   ]
  },
  {
   "cell_type": "markdown",
   "metadata": {},
   "source": [
    "And, if we look at what's in one of those keys, we get the data."
   ]
  },
  {
   "cell_type": "code",
   "execution_count": 10,
   "metadata": {},
   "outputs": [
    {
     "data": {
      "text/plain": [
       "tensor(7)"
      ]
     },
     "execution_count": 10,
     "metadata": {},
     "output_type": "execute_result"
    }
   ],
   "source": [
    "first_data_point['Y'] # the correct label for this image is 7"
   ]
  },
  {
   "cell_type": "code",
   "execution_count": 11,
   "metadata": {},
   "outputs": [
    {
     "data": {
      "text/plain": [
       "tensor([[[0.0000, 0.0000, 0.0000, 0.0000, 0.0000, 0.0000, 0.0000, 0.0000,\n",
       "          0.0000, 0.0000, 0.0000, 0.0000, 0.0000, 0.0000, 0.0000, 0.0000,\n",
       "          0.0000, 0.0000, 0.0000, 0.0000, 0.0000, 0.0000, 0.0000, 0.0000,\n",
       "          0.0000, 0.0000, 0.0000, 0.0000],\n",
       "         [0.0000, 0.0000, 0.0000, 0.0000, 0.0000, 0.0000, 0.0000, 0.0000,\n",
       "          0.0000, 0.0000, 0.0000, 0.0000, 0.0000, 0.0000, 0.0000, 0.0000,\n",
       "          0.0000, 0.0000, 0.0000, 0.0000, 0.0000, 0.0000, 0.0000, 0.0000,\n",
       "          0.0000, 0.0000, 0.0000, 0.0000],\n",
       "         [0.0000, 0.0000, 0.0000, 0.0000, 0.0000, 0.0000, 0.0000, 0.0000,\n",
       "          0.0000, 0.0000, 0.0000, 0.0000, 0.0000, 0.0000, 0.0000, 0.0000,\n",
       "          0.0000, 0.0000, 0.0000, 0.0000, 0.0000, 0.0000, 0.0000, 0.0000,\n",
       "          0.0000, 0.0000, 0.0000, 0.0000],\n",
       "         [0.0000, 0.0000, 0.0000, 0.0000, 0.0000, 0.0000, 0.0000, 0.0000,\n",
       "          0.0000, 0.0000, 0.0000, 0.0000, 0.0000, 0.0000, 0.0000, 0.0000,\n",
       "          0.0000, 0.0000, 0.0000, 0.0000, 0.0000, 0.0000, 0.0000, 0.0000,\n",
       "          0.0000, 0.0000, 0.0000, 0.0000],\n",
       "         [0.0000, 0.0000, 0.0000, 0.0000, 0.0000, 0.0000, 0.0000, 0.0000,\n",
       "          0.0000, 0.0000, 0.0000, 0.0000, 0.0000, 0.0000, 0.0000, 0.0000,\n",
       "          0.0000, 0.0000, 0.0000, 0.0000, 0.0000, 0.0000, 0.0000, 0.0000,\n",
       "          0.0000, 0.0000, 0.0000, 0.0000],\n",
       "         [0.0000, 0.0000, 0.0000, 0.0000, 0.0000, 0.0000, 0.0000, 0.0000,\n",
       "          0.0000, 0.0000, 0.0000, 0.0000, 0.0000, 0.0000, 0.0000, 0.0000,\n",
       "          0.0000, 0.0000, 0.0000, 0.0000, 0.0000, 0.0000, 0.0000, 0.0000,\n",
       "          0.0000, 0.0000, 0.0000, 0.0000],\n",
       "         [0.0000, 0.0000, 0.0000, 0.0000, 0.0000, 0.0000, 0.0000, 0.0000,\n",
       "          0.0000, 0.0000, 0.0000, 0.0000, 0.0000, 0.0000, 0.0000, 0.0000,\n",
       "          0.0000, 0.0000, 0.0000, 0.0000, 0.0000, 0.0000, 0.0000, 0.0000,\n",
       "          0.0000, 0.0000, 0.0000, 0.0000],\n",
       "         [0.0000, 0.0000, 0.0000, 0.0000, 0.0000, 0.0000, 0.3294, 0.7255,\n",
       "          0.6235, 0.5922, 0.2353, 0.1412, 0.0000, 0.0000, 0.0000, 0.0000,\n",
       "          0.0000, 0.0000, 0.0000, 0.0000, 0.0000, 0.0000, 0.0000, 0.0000,\n",
       "          0.0000, 0.0000, 0.0000, 0.0000],\n",
       "         [0.0000, 0.0000, 0.0000, 0.0000, 0.0000, 0.0000, 0.8706, 0.9961,\n",
       "          0.9961, 0.9961, 0.9961, 0.9451, 0.7765, 0.7765, 0.7765, 0.7765,\n",
       "          0.7765, 0.7765, 0.7765, 0.7765, 0.6667, 0.2039, 0.0000, 0.0000,\n",
       "          0.0000, 0.0000, 0.0000, 0.0000],\n",
       "         [0.0000, 0.0000, 0.0000, 0.0000, 0.0000, 0.0000, 0.2627, 0.4471,\n",
       "          0.2824, 0.4471, 0.6392, 0.8902, 0.9961, 0.8824, 0.9961, 0.9961,\n",
       "          0.9961, 0.9804, 0.8980, 0.9961, 0.9961, 0.5490, 0.0000, 0.0000,\n",
       "          0.0000, 0.0000, 0.0000, 0.0000],\n",
       "         [0.0000, 0.0000, 0.0000, 0.0000, 0.0000, 0.0000, 0.0000, 0.0000,\n",
       "          0.0000, 0.0000, 0.0000, 0.0667, 0.2588, 0.0549, 0.2627, 0.2627,\n",
       "          0.2627, 0.2314, 0.0824, 0.9255, 0.9961, 0.4157, 0.0000, 0.0000,\n",
       "          0.0000, 0.0000, 0.0000, 0.0000],\n",
       "         [0.0000, 0.0000, 0.0000, 0.0000, 0.0000, 0.0000, 0.0000, 0.0000,\n",
       "          0.0000, 0.0000, 0.0000, 0.0000, 0.0000, 0.0000, 0.0000, 0.0000,\n",
       "          0.0000, 0.0000, 0.3255, 0.9922, 0.8196, 0.0706, 0.0000, 0.0000,\n",
       "          0.0000, 0.0000, 0.0000, 0.0000],\n",
       "         [0.0000, 0.0000, 0.0000, 0.0000, 0.0000, 0.0000, 0.0000, 0.0000,\n",
       "          0.0000, 0.0000, 0.0000, 0.0000, 0.0000, 0.0000, 0.0000, 0.0000,\n",
       "          0.0000, 0.0863, 0.9137, 1.0000, 0.3255, 0.0000, 0.0000, 0.0000,\n",
       "          0.0000, 0.0000, 0.0000, 0.0000],\n",
       "         [0.0000, 0.0000, 0.0000, 0.0000, 0.0000, 0.0000, 0.0000, 0.0000,\n",
       "          0.0000, 0.0000, 0.0000, 0.0000, 0.0000, 0.0000, 0.0000, 0.0000,\n",
       "          0.0000, 0.5059, 0.9961, 0.9333, 0.1725, 0.0000, 0.0000, 0.0000,\n",
       "          0.0000, 0.0000, 0.0000, 0.0000],\n",
       "         [0.0000, 0.0000, 0.0000, 0.0000, 0.0000, 0.0000, 0.0000, 0.0000,\n",
       "          0.0000, 0.0000, 0.0000, 0.0000, 0.0000, 0.0000, 0.0000, 0.0000,\n",
       "          0.2314, 0.9765, 0.9961, 0.2431, 0.0000, 0.0000, 0.0000, 0.0000,\n",
       "          0.0000, 0.0000, 0.0000, 0.0000],\n",
       "         [0.0000, 0.0000, 0.0000, 0.0000, 0.0000, 0.0000, 0.0000, 0.0000,\n",
       "          0.0000, 0.0000, 0.0000, 0.0000, 0.0000, 0.0000, 0.0000, 0.0000,\n",
       "          0.5216, 0.9961, 0.7333, 0.0196, 0.0000, 0.0000, 0.0000, 0.0000,\n",
       "          0.0000, 0.0000, 0.0000, 0.0000],\n",
       "         [0.0000, 0.0000, 0.0000, 0.0000, 0.0000, 0.0000, 0.0000, 0.0000,\n",
       "          0.0000, 0.0000, 0.0000, 0.0000, 0.0000, 0.0000, 0.0000, 0.0353,\n",
       "          0.8039, 0.9725, 0.2275, 0.0000, 0.0000, 0.0000, 0.0000, 0.0000,\n",
       "          0.0000, 0.0000, 0.0000, 0.0000],\n",
       "         [0.0000, 0.0000, 0.0000, 0.0000, 0.0000, 0.0000, 0.0000, 0.0000,\n",
       "          0.0000, 0.0000, 0.0000, 0.0000, 0.0000, 0.0000, 0.0000, 0.4941,\n",
       "          0.9961, 0.7137, 0.0000, 0.0000, 0.0000, 0.0000, 0.0000, 0.0000,\n",
       "          0.0000, 0.0000, 0.0000, 0.0000],\n",
       "         [0.0000, 0.0000, 0.0000, 0.0000, 0.0000, 0.0000, 0.0000, 0.0000,\n",
       "          0.0000, 0.0000, 0.0000, 0.0000, 0.0000, 0.0000, 0.2941, 0.9843,\n",
       "          0.9412, 0.2235, 0.0000, 0.0000, 0.0000, 0.0000, 0.0000, 0.0000,\n",
       "          0.0000, 0.0000, 0.0000, 0.0000],\n",
       "         [0.0000, 0.0000, 0.0000, 0.0000, 0.0000, 0.0000, 0.0000, 0.0000,\n",
       "          0.0000, 0.0000, 0.0000, 0.0000, 0.0000, 0.0745, 0.8667, 0.9961,\n",
       "          0.6510, 0.0000, 0.0000, 0.0000, 0.0000, 0.0000, 0.0000, 0.0000,\n",
       "          0.0000, 0.0000, 0.0000, 0.0000],\n",
       "         [0.0000, 0.0000, 0.0000, 0.0000, 0.0000, 0.0000, 0.0000, 0.0000,\n",
       "          0.0000, 0.0000, 0.0000, 0.0000, 0.0118, 0.7961, 0.9961, 0.8588,\n",
       "          0.1373, 0.0000, 0.0000, 0.0000, 0.0000, 0.0000, 0.0000, 0.0000,\n",
       "          0.0000, 0.0000, 0.0000, 0.0000],\n",
       "         [0.0000, 0.0000, 0.0000, 0.0000, 0.0000, 0.0000, 0.0000, 0.0000,\n",
       "          0.0000, 0.0000, 0.0000, 0.0000, 0.1490, 0.9961, 0.9961, 0.3020,\n",
       "          0.0000, 0.0000, 0.0000, 0.0000, 0.0000, 0.0000, 0.0000, 0.0000,\n",
       "          0.0000, 0.0000, 0.0000, 0.0000],\n",
       "         [0.0000, 0.0000, 0.0000, 0.0000, 0.0000, 0.0000, 0.0000, 0.0000,\n",
       "          0.0000, 0.0000, 0.0000, 0.1216, 0.8784, 0.9961, 0.4510, 0.0039,\n",
       "          0.0000, 0.0000, 0.0000, 0.0000, 0.0000, 0.0000, 0.0000, 0.0000,\n",
       "          0.0000, 0.0000, 0.0000, 0.0000],\n",
       "         [0.0000, 0.0000, 0.0000, 0.0000, 0.0000, 0.0000, 0.0000, 0.0000,\n",
       "          0.0000, 0.0000, 0.0000, 0.5216, 0.9961, 0.9961, 0.2039, 0.0000,\n",
       "          0.0000, 0.0000, 0.0000, 0.0000, 0.0000, 0.0000, 0.0000, 0.0000,\n",
       "          0.0000, 0.0000, 0.0000, 0.0000],\n",
       "         [0.0000, 0.0000, 0.0000, 0.0000, 0.0000, 0.0000, 0.0000, 0.0000,\n",
       "          0.0000, 0.0000, 0.2392, 0.9490, 0.9961, 0.9961, 0.2039, 0.0000,\n",
       "          0.0000, 0.0000, 0.0000, 0.0000, 0.0000, 0.0000, 0.0000, 0.0000,\n",
       "          0.0000, 0.0000, 0.0000, 0.0000],\n",
       "         [0.0000, 0.0000, 0.0000, 0.0000, 0.0000, 0.0000, 0.0000, 0.0000,\n",
       "          0.0000, 0.0000, 0.4745, 0.9961, 0.9961, 0.8588, 0.1569, 0.0000,\n",
       "          0.0000, 0.0000, 0.0000, 0.0000, 0.0000, 0.0000, 0.0000, 0.0000,\n",
       "          0.0000, 0.0000, 0.0000, 0.0000],\n",
       "         [0.0000, 0.0000, 0.0000, 0.0000, 0.0000, 0.0000, 0.0000, 0.0000,\n",
       "          0.0000, 0.0000, 0.4745, 0.9961, 0.8118, 0.0706, 0.0000, 0.0000,\n",
       "          0.0000, 0.0000, 0.0000, 0.0000, 0.0000, 0.0000, 0.0000, 0.0000,\n",
       "          0.0000, 0.0000, 0.0000, 0.0000],\n",
       "         [0.0000, 0.0000, 0.0000, 0.0000, 0.0000, 0.0000, 0.0000, 0.0000,\n",
       "          0.0000, 0.0000, 0.0000, 0.0000, 0.0000, 0.0000, 0.0000, 0.0000,\n",
       "          0.0000, 0.0000, 0.0000, 0.0000, 0.0000, 0.0000, 0.0000, 0.0000,\n",
       "          0.0000, 0.0000, 0.0000, 0.0000]]])"
      ]
     },
     "execution_count": 11,
     "metadata": {},
     "output_type": "execute_result"
    }
   ],
   "source": [
    "first_data_point['x'] # the image data for this image"
   ]
  },
  {
   "cell_type": "markdown",
   "metadata": {},
   "source": [
    "Depending on the size of your screen, you  might even be able to spot that this datapoint contains a number 7."
   ]
  },
  {
   "cell_type": "markdown",
   "metadata": {},
   "source": []
  }
 ],
 "metadata": {
  "kernelspec": {
   "display_name": "graphml",
   "language": "python",
   "name": "python3"
  },
  "language_info": {
   "codemirror_mode": {
    "name": "ipython",
    "version": 3
   },
   "file_extension": ".py",
   "mimetype": "text/x-python",
   "name": "python",
   "nbconvert_exporter": "python",
   "pygments_lexer": "ipython3",
   "version": "3.7.12"
  }
 },
 "nbformat": 4,
 "nbformat_minor": 2
}
