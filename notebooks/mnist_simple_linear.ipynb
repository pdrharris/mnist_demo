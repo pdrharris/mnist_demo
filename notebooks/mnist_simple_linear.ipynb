{
 "cells": [
  {
   "cell_type": "markdown",
   "metadata": {},
   "source": [
    "## MNIST - simple linear model\n",
    "This notebook will help with two things:\n",
    "1. It gives you a code template without all of the explanation. Once you understand the basic principles, that may be helpful in terms of having less to wade through.\n",
    "2. It substitutes the convolutional model for a linear model. There are lots of instances where a linear model is all that you need.\n",
    "\n",
    "So, to understand this notebook, please look at the mnist_demo.ipynb notebook which has almost all of the same code but with lots of explanation."
   ]
  },
  {
   "cell_type": "code",
   "execution_count": 1,
   "metadata": {},
   "outputs": [],
   "source": [
    "from pathlib import Path\n",
    "import torch\n",
    "import torch.nn as nn\n",
    "from torch.utils.data import Dataset, DataLoader\n",
    "import numpy as np\n",
    "import matplotlib.pyplot as plt\n",
    "from mnist_dataset import MnistDataset"
   ]
  },
  {
   "cell_type": "code",
   "execution_count": 2,
   "metadata": {},
   "outputs": [
    {
     "data": {
      "text/plain": [
       "True"
      ]
     },
     "execution_count": 2,
     "metadata": {},
     "output_type": "execute_result"
    }
   ],
   "source": [
    "GPU_AVAILABLE = torch.cuda.is_available()\n",
    "GPU_AVAILABLE"
   ]
  },
  {
   "cell_type": "markdown",
   "metadata": {},
   "source": [
    "## Load up the datasets"
   ]
  },
  {
   "cell_type": "code",
   "execution_count": 3,
   "metadata": {},
   "outputs": [],
   "source": [
    "data_root = Path('../data')"
   ]
  },
  {
   "cell_type": "code",
   "execution_count": 4,
   "metadata": {},
   "outputs": [],
   "source": [
    "test_ds = MnistDataset(data_root, 'test')\n",
    "train_ds = MnistDataset(data_root, 'train')"
   ]
  },
  {
   "cell_type": "markdown",
   "metadata": {},
   "source": [
    "## The model"
   ]
  },
  {
   "cell_type": "markdown",
   "metadata": {},
   "source": [
    "This is the main piece of code that's different - it's a linear model rather than a convolutional model."
   ]
  },
  {
   "cell_type": "code",
   "execution_count": 18,
   "metadata": {},
   "outputs": [],
   "source": [
    "class LinearMnistModel(nn.Module):\n",
    "    def __init__(self):\n",
    "        super(LinearMnistModel, self).__init__()\n",
    "\n",
    "        self.linear_layer1 = nn.Linear(28 * 28, 10)\n",
    "        self.softmax = nn.Softmax(dim=1)\n",
    "        \n",
    "    def forward(self, x):\n",
    "        x = x.view(-1, 28*28)\n",
    "        x = self.linear_layer1(x)\n",
    "        return self.softmax(x)"
   ]
  },
  {
   "cell_type": "code",
   "execution_count": 19,
   "metadata": {},
   "outputs": [
    {
     "data": {
      "text/plain": [
       "LinearMnistModel(\n",
       "  (linear_layer1): Linear(in_features=784, out_features=10, bias=True)\n",
       "  (softmax): Softmax(dim=1)\n",
       ")"
      ]
     },
     "execution_count": 19,
     "metadata": {},
     "output_type": "execute_result"
    }
   ],
   "source": [
    "model = LinearMnistModel()\n",
    "model = model.cuda() if GPU_AVAILABLE else model\n",
    "model"
   ]
  },
  {
   "cell_type": "code",
   "execution_count": 20,
   "metadata": {},
   "outputs": [],
   "source": [
    "batch_size = 100\n",
    "train_dl = DataLoader(train_ds, batch_size=batch_size, shuffle=True)\n",
    "test_dl = DataLoader(test_ds, batch_size=batch_size, shuffle=False)"
   ]
  },
  {
   "cell_type": "code",
   "execution_count": 21,
   "metadata": {},
   "outputs": [],
   "source": [
    "loss_function = nn.CrossEntropyLoss()\n",
    "optimizer = torch.optim.Adam(model.parameters(), lr=0.001)"
   ]
  },
  {
   "cell_type": "markdown",
   "metadata": {},
   "source": [
    "## Train and test"
   ]
  },
  {
   "cell_type": "code",
   "execution_count": 9,
   "metadata": {},
   "outputs": [],
   "source": [
    "def train_batch(model, batch, optimizer, loss_function):\n",
    "    \"\"\"\n",
    "    Trains the model on a single batch of data.\n",
    "\n",
    "    Args:\n",
    "        model (nn.Module): The PyTorch model to train.\n",
    "        batch (dict): A dictionary containing the input data and labels for a single batch.\n",
    "        optimizer (torch.optim.Optimizer): The optimizer to use for training.\n",
    "        loss_function (nn.Module): The loss function to use for training.\n",
    "\n",
    "    Returns:\n",
    "        float: The loss value for the batch.\n",
    "    \"\"\"\n",
    "    # Get the input data and labels from the batch\n",
    "    x, y = batch['x'], batch['Y']\n",
    "    # Move the data to the correct device, that is, onto the GPU if we have one available.\n",
    "    if GPU_AVAILABLE:\n",
    "        x, y = x.cuda(), y.cuda()\n",
    "\n",
    "    # This next line is boilerplate PyTorch. It tells PyTorch to reset all gradients.\n",
    "    # You'll use this line as-is most of the time.\n",
    "    optimizer.zero_grad()\n",
    "\n",
    "    # Compute the output of the model using the input data.\n",
    "    output = model(x)\n",
    "    # Calculate the loss using the output of the model and the correct labels.\n",
    "    loss = loss_function(output, y)\n",
    "\n",
    "    # This next lines are also boilerplate PyTorch.You'll use them as-is most of the time.\n",
    "    # loss.backward() tells PyTorch to compute gradients based on the loss function.\n",
    "    loss.backward()\n",
    "    # optimizer.step() tells PyTorch to update the model parameters based on those gradients.\n",
    "    optimizer.step()\n",
    "\n",
    "    return loss.item()\n"
   ]
  },
  {
   "cell_type": "code",
   "execution_count": 10,
   "metadata": {},
   "outputs": [],
   "source": [
    "def train_epoch(model, train_dl, optimizer, loss_function):\n",
    "    \"\"\"\n",
    "    Trains the model for a single epoch.\n",
    "\n",
    "    Args:\n",
    "        model (nn.Module): The PyTorch model to train.\n",
    "        train_dl (DataLoader): The DataLoader containing the training data.\n",
    "        optimizer (torch.optim.Optimizer): The optimizer to use for training.\n",
    "        loss_function (nn.Module): The loss function to use for training.\n",
    "\n",
    "    Returns:\n",
    "        float: The average loss value for the epoch.\n",
    "    \"\"\"\n",
    "    total_loss = 0\n",
    "    num_batches = len(train_dl)\n",
    "    running_loss = 0\n",
    "    print_every = 10\n",
    "    model.train() # set model to training mode\n",
    "\n",
    "    for i, batch in enumerate(train_dl):\n",
    "\n",
    "        # This next line is all that we need to run through the train set once.\n",
    "        batch_loss = train_batch(model, batch, optimizer, loss_function)\n",
    "\n",
    "        # We'll keep track of the total loss so that we can calculate the average loss at the end.\n",
    "        total_loss += batch_loss\n",
    "\n",
    "        # Every so often, we'll print the average loss so far.\n",
    "        # Note, the actual value of the loss won't mean very much to you.\n",
    "        # The main thing is that we should see it decreasing steadily as we train.\n",
    "        running_loss += batch_loss\n",
    "        if (i+1) % print_every == 0:\n",
    "            print(f'Batch {i+1} - Running loss: {running_loss/print_every:.3f}')\n",
    "            running_loss = 0\n",
    "\n",
    "    return total_loss / num_batches\n"
   ]
  },
  {
   "cell_type": "code",
   "execution_count": 11,
   "metadata": {},
   "outputs": [],
   "source": [
    "def test_model(model, test_dl):\n",
    "    \"\"\"\n",
    "    Tests the model on the test data.\n",
    "\n",
    "    Args:\n",
    "        model (nn.Module): The PyTorch model to test.\n",
    "        test_dl (DataLoader): The DataLoader containing the test data.\n",
    "\n",
    "    Returns:\n",
    "        float: The accuracy of the model on the test data.\n",
    "    \"\"\"\n",
    "    correct = 0\n",
    "    total = 0\n",
    "    model.eval()\n",
    "    with torch.no_grad(): # We don't need to calculate gradients, so we can turn them off to save memory and computation\n",
    "        for batch in test_dl:\n",
    "            x, y = batch['x'], batch['Y']\n",
    "            if GPU_AVAILABLE:\n",
    "                x, y = x.cuda(), y.cuda()\n",
    "            outputs = model(x)\n",
    "            _, predicted = torch.max(outputs.data, 1)\n",
    "            total += y.size(0)\n",
    "            correct += (predicted == y).sum().item()\n",
    "\n",
    "    accuracy = 100 * correct / total\n",
    "    return accuracy\n"
   ]
  },
  {
   "cell_type": "code",
   "execution_count": 22,
   "metadata": {},
   "outputs": [
    {
     "name": "stdout",
     "output_type": "stream",
     "text": [
      "600\n",
      "Batch 10 - Running loss: 2.283\n",
      "Batch 20 - Running loss: 2.226\n",
      "Batch 30 - Running loss: 2.158\n",
      "Batch 40 - Running loss: 2.094\n",
      "Batch 50 - Running loss: 2.020\n",
      "Batch 60 - Running loss: 1.960\n",
      "Batch 70 - Running loss: 1.909\n",
      "Batch 80 - Running loss: 1.885\n",
      "Batch 90 - Running loss: 1.871\n",
      "Batch 100 - Running loss: 1.820\n",
      "Batch 110 - Running loss: 1.815\n",
      "Batch 120 - Running loss: 1.788\n",
      "Batch 130 - Running loss: 1.780\n",
      "Batch 140 - Running loss: 1.764\n",
      "Batch 150 - Running loss: 1.758\n",
      "Batch 160 - Running loss: 1.736\n",
      "Batch 170 - Running loss: 1.719\n",
      "Batch 180 - Running loss: 1.726\n",
      "Batch 190 - Running loss: 1.700\n",
      "Batch 200 - Running loss: 1.715\n",
      "Batch 210 - Running loss: 1.695\n",
      "Batch 220 - Running loss: 1.691\n",
      "Batch 230 - Running loss: 1.699\n",
      "Batch 240 - Running loss: 1.690\n",
      "Batch 250 - Running loss: 1.676\n",
      "Batch 260 - Running loss: 1.691\n",
      "Batch 270 - Running loss: 1.680\n",
      "Batch 280 - Running loss: 1.674\n",
      "Batch 290 - Running loss: 1.661\n",
      "Batch 300 - Running loss: 1.675\n",
      "Batch 310 - Running loss: 1.660\n",
      "Batch 320 - Running loss: 1.643\n",
      "Batch 330 - Running loss: 1.650\n",
      "Batch 340 - Running loss: 1.661\n",
      "Batch 350 - Running loss: 1.646\n",
      "Batch 360 - Running loss: 1.656\n",
      "Batch 370 - Running loss: 1.638\n",
      "Batch 380 - Running loss: 1.637\n",
      "Batch 390 - Running loss: 1.644\n",
      "Batch 400 - Running loss: 1.637\n",
      "Batch 410 - Running loss: 1.649\n",
      "Batch 420 - Running loss: 1.634\n",
      "Batch 430 - Running loss: 1.633\n",
      "Batch 440 - Running loss: 1.633\n",
      "Batch 450 - Running loss: 1.618\n",
      "Batch 460 - Running loss: 1.620\n",
      "Batch 470 - Running loss: 1.620\n",
      "Batch 480 - Running loss: 1.638\n",
      "Batch 490 - Running loss: 1.626\n",
      "Batch 500 - Running loss: 1.643\n",
      "Batch 510 - Running loss: 1.629\n",
      "Batch 520 - Running loss: 1.621\n",
      "Batch 530 - Running loss: 1.612\n",
      "Batch 540 - Running loss: 1.614\n",
      "Batch 550 - Running loss: 1.620\n",
      "Batch 560 - Running loss: 1.624\n",
      "Batch 570 - Running loss: 1.629\n",
      "Batch 580 - Running loss: 1.616\n",
      "Batch 590 - Running loss: 1.613\n",
      "Batch 600 - Running loss: 1.626\n"
     ]
    },
    {
     "data": {
      "text/plain": [
       "1.7257773500680924"
      ]
     },
     "execution_count": 22,
     "metadata": {},
     "output_type": "execute_result"
    }
   ],
   "source": [
    "print(len(train_dl))\n",
    "train_epoch(model, train_dl, optimizer, loss_function)"
   ]
  },
  {
   "cell_type": "code",
   "execution_count": 23,
   "metadata": {},
   "outputs": [
    {
     "data": {
      "text/plain": [
       "90.16"
      ]
     },
     "execution_count": 23,
     "metadata": {},
     "output_type": "execute_result"
    }
   ],
   "source": [
    "test_model(model, test_dl)"
   ]
  },
  {
   "cell_type": "code",
   "execution_count": 24,
   "metadata": {},
   "outputs": [
    {
     "data": {
      "text/plain": [
       "torch.Size([10, 784])"
      ]
     },
     "execution_count": 24,
     "metadata": {},
     "output_type": "execute_result"
    }
   ],
   "source": [
    "model.linear_layer1.weight.shape"
   ]
  },
  {
   "cell_type": "markdown",
   "metadata": {},
   "source": [
    "## Heatmaps for each digit\n",
    "This code defines a function called `display_heatmaps` that takes a PyTorch model as input and displays heatmaps for each of the 10 digits (0 to 9) that the model is trained to recognize. \n",
    "\n",
    "The heatmaps are important because they show which parts of the input image are most important for the model to recognize a particular digit. For example, if the heatmap for the digit \"3\" has a lot of red in the middle of the image, that means that the model is paying a lot of attention to that part of the image when trying to recognize the digit \"3\". \n",
    "\n",
    "By looking at the heatmaps, we can get a better understanding of how the model is making its predictions and which parts of the input image are most important for each digit."
   ]
  },
  {
   "cell_type": "code",
   "execution_count": 34,
   "metadata": {},
   "outputs": [],
   "source": [
    "def display_heatmaps(model):\n",
    "    \"\"\"\n",
    "    Reshapes each heatmap in model.linear_layer1 as 28x28 and displays it.\n",
    "    Heatmaps are displayed in 4 columns, with each heatmap titled with the digit it represents (0 to 9).\n",
    "    \n",
    "    Args:\n",
    "        model (nn.Module): The PyTorch model to display the heatmaps for.\n",
    "    \"\"\"\n",
    "    heatmaps = model.linear_layer1.weight.detach().cpu().numpy()\n",
    "    fig, axs = plt.subplots(nrows=2, ncols=5, figsize=(15, 6))\n",
    "    for i, ax in enumerate(axs.flat):\n",
    "        heatmap = heatmaps[i].reshape(28, 28)\n",
    "        ax.imshow(heatmap, cmap='coolwarm')\n",
    "        ax.set_title(str(i))\n",
    "        ax.axis('off')\n",
    "    plt.show()\n"
   ]
  },
  {
   "cell_type": "code",
   "execution_count": 35,
   "metadata": {},
   "outputs": [
    {
     "data": {
      "image/png": "[encoded data removed]",
      "text/plain": [
       "<Figure size 1500x600 with 10 Axes>"
      ]
     },
     "metadata": {},
     "output_type": "display_data"
    }
   ],
   "source": [
    "display_heatmaps(model)"
   ]
  }
 ],
 "metadata": {
  "kernelspec": {
   "display_name": "graphml",
   "language": "python",
   "name": "python3"
  },
  "language_info": {
   "codemirror_mode": {
    "name": "ipython",
    "version": 3
   },
   "file_extension": ".py",
   "mimetype": "text/x-python",
   "name": "python",
   "nbconvert_exporter": "python",
   "pygments_lexer": "ipython3",
   "version": "3.7.12"
  }
 },
 "nbformat": 4,
 "nbformat_minor": 2
}
