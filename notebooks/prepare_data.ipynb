{
 "cells": [
  {
   "cell_type": "markdown",
   "metadata": {},
   "source": [
    "## This notebook is to prepare the dataset.\n",
    "The data comes from:\n",
    "https://www.kaggle.com/datasets/jidhumohan/mnist-png/\n",
    "\n",
    "In the demo that I gave, I have already prepared the data and it is stored in the same repo as these notebooks. So **you should not have to run this notebook**. However, I include it for completeness."
   ]
  },
  {
   "cell_type": "code",
   "execution_count": 17,
   "metadata": {},
   "outputs": [],
   "source": [
    "import pandas as pd\n",
    "from pathlib import Path\n",
    "from shutil import copy\n"
   ]
  },
  {
   "cell_type": "markdown",
   "metadata": {},
   "source": [
    "Note: the data below is not included in the zip file, so these commands won't run.\n",
    "\n",
    "If you really want to run it, you'll need to download the data from the link above."
   ]
  },
  {
   "cell_type": "code",
   "execution_count": 3,
   "metadata": {},
   "outputs": [
    {
     "data": {
      "text/plain": [
       "True"
      ]
     },
     "execution_count": 3,
     "metadata": {},
     "output_type": "execute_result"
    }
   ],
   "source": [
    "data_root = Path('/data/mnist/archive/mnist_png/')\n",
    "data_root.exists()"
   ]
  },
  {
   "cell_type": "code",
   "execution_count": 4,
   "metadata": {},
   "outputs": [],
   "source": [
    "def get_data_set(data_root: Path, subdir: str) -> pd.DataFrame:\n",
    "    \"\"\"\n",
    "    Given a root directory and a subdirectory, returns a Pandas DataFrame containing information about PNG files in the subdirectory.\n",
    "\n",
    "    Args:\n",
    "        data_root (Path): The root directory containing the subdirectory.\n",
    "        subdir (str): The name of the subdirectory containing the PNG files.\n",
    "\n",
    "    Returns:\n",
    "        pd.DataFrame: A DataFrame with columns for the PNG file names, labels, and numerical names, sorted by numerical name.\n",
    "    \"\"\"\n",
    "    # Get a list of all PNG files in the subdirectory\n",
    "    pngs = list(data_root.joinpath(subdir).glob('**/*.png'))\n",
    "\n",
    "    # Extract the file names, numerical names, and labels from the list of PNG files\n",
    "    png_files = [f.name for f in pngs]\n",
    "    numerical_names = [int(f.name[:-4]) for f in pngs]\n",
    "    labels = [int(f.parent.name) for f in pngs]\n",
    "\n",
    "    # Check that there are no duplicate file names\n",
    "    assert(len(png_files) == len(set(png_files)))\n",
    "\n",
    "    # Create a DataFrame with the extracted information, sort it by numerical name, and drop the numerical column\n",
    "    data_set = pd.DataFrame({'png': png_files, 'label': labels, 'numerical': numerical_names})\n",
    "    data_set = data_set.sort_values('numerical').reset_index(drop=True).drop(columns='numerical')\n",
    "\n",
    "    return data_set"
   ]
  },
  {
   "cell_type": "code",
   "execution_count": 5,
   "metadata": {},
   "outputs": [
    {
     "data": {
      "text/html": [
       "<div>\n",
       "<style scoped>\n",
       "    .dataframe tbody tr th:only-of-type {\n",
       "        vertical-align: middle;\n",
       "    }\n",
       "\n",
       "    .dataframe tbody tr th {\n",
       "        vertical-align: top;\n",
       "    }\n",
       "\n",
       "    .dataframe thead th {\n",
       "        text-align: right;\n",
       "    }\n",
       "</style>\n",
       "<table border=\"1\" class=\"dataframe\">\n",
       "  <thead>\n",
       "    <tr style=\"text-align: right;\">\n",
       "      <th></th>\n",
       "      <th>png</th>\n",
       "      <th>label</th>\n",
       "    </tr>\n",
       "  </thead>\n",
       "  <tbody>\n",
       "    <tr>\n",
       "      <th>9995</th>\n",
       "      <td>9995.png</td>\n",
       "      <td>2</td>\n",
       "    </tr>\n",
       "    <tr>\n",
       "      <th>9996</th>\n",
       "      <td>9996.png</td>\n",
       "      <td>3</td>\n",
       "    </tr>\n",
       "    <tr>\n",
       "      <th>9997</th>\n",
       "      <td>9997.png</td>\n",
       "      <td>4</td>\n",
       "    </tr>\n",
       "    <tr>\n",
       "      <th>9998</th>\n",
       "      <td>9998.png</td>\n",
       "      <td>5</td>\n",
       "    </tr>\n",
       "    <tr>\n",
       "      <th>9999</th>\n",
       "      <td>9999.png</td>\n",
       "      <td>6</td>\n",
       "    </tr>\n",
       "  </tbody>\n",
       "</table>\n",
       "</div>"
      ],
      "text/plain": [
       "           png  label\n",
       "9995  9995.png      2\n",
       "9996  9996.png      3\n",
       "9997  9997.png      4\n",
       "9998  9998.png      5\n",
       "9999  9999.png      6"
      ]
     },
     "execution_count": 5,
     "metadata": {},
     "output_type": "execute_result"
    }
   ],
   "source": [
    "test = get_data_set(data_root, 'testing')\n",
    "test.tail()"
   ]
  },
  {
   "cell_type": "code",
   "execution_count": 6,
   "metadata": {},
   "outputs": [
    {
     "data": {
      "text/html": [
       "<div>\n",
       "<style scoped>\n",
       "    .dataframe tbody tr th:only-of-type {\n",
       "        vertical-align: middle;\n",
       "    }\n",
       "\n",
       "    .dataframe tbody tr th {\n",
       "        vertical-align: top;\n",
       "    }\n",
       "\n",
       "    .dataframe thead th {\n",
       "        text-align: right;\n",
       "    }\n",
       "</style>\n",
       "<table border=\"1\" class=\"dataframe\">\n",
       "  <thead>\n",
       "    <tr style=\"text-align: right;\">\n",
       "      <th></th>\n",
       "      <th>png</th>\n",
       "      <th>label</th>\n",
       "    </tr>\n",
       "  </thead>\n",
       "  <tbody>\n",
       "    <tr>\n",
       "      <th>59995</th>\n",
       "      <td>59995.png</td>\n",
       "      <td>8</td>\n",
       "    </tr>\n",
       "    <tr>\n",
       "      <th>59996</th>\n",
       "      <td>59996.png</td>\n",
       "      <td>3</td>\n",
       "    </tr>\n",
       "    <tr>\n",
       "      <th>59997</th>\n",
       "      <td>59997.png</td>\n",
       "      <td>5</td>\n",
       "    </tr>\n",
       "    <tr>\n",
       "      <th>59998</th>\n",
       "      <td>59998.png</td>\n",
       "      <td>6</td>\n",
       "    </tr>\n",
       "    <tr>\n",
       "      <th>59999</th>\n",
       "      <td>59999.png</td>\n",
       "      <td>8</td>\n",
       "    </tr>\n",
       "  </tbody>\n",
       "</table>\n",
       "</div>"
      ],
      "text/plain": [
       "             png  label\n",
       "59995  59995.png      8\n",
       "59996  59996.png      3\n",
       "59997  59997.png      5\n",
       "59998  59998.png      6\n",
       "59999  59999.png      8"
      ]
     },
     "execution_count": 6,
     "metadata": {},
     "output_type": "execute_result"
    }
   ],
   "source": [
    "train = get_data_set(data_root, 'training')\n",
    "train.tail()"
   ]
  },
  {
   "cell_type": "code",
   "execution_count": 22,
   "metadata": {},
   "outputs": [],
   "source": [
    "def copy_pngs(data_root: Path, subdir: str, output_dir: Path):\n",
    "    \"\"\"\n",
    "    Copies all PNG files from a subdirectory to a new directory.\n",
    "\n",
    "    Args:\n",
    "        data_root (Path): The root directory containing the subdirectory.\n",
    "        subdir (str): The name of the subdirectory containing the PNG files.\n",
    "            Should be 'training' or 'testing'.\n",
    "        output_dir (Path): The directory to copy the PNG files to.\n",
    "    \"\"\"\n",
    "\n",
    "    output_dir = (Path(output_dir) / subdir[:-3])\n",
    "    output_dir.mkdir(parents=False, exist_ok=True)\n",
    "\n",
    "    # Get a list of all PNG files in the subdirectory\n",
    "    pngs = list((data_root/ subdir).glob('**/*.png'))\n",
    "\n",
    "    # Copy each PNG file to the output directory\n",
    "    for index, png in enumerate(pngs):\n",
    "        output_file = output_dir / png.name\n",
    "        if not output_file.exists():\n",
    "            copy(png, output_file)\n",
    "        if (index + 1) % 100 == 0:\n",
    "            print(f'Copied {index + 1} files', end='\\r')\n",
    "\n",
    "    return output_dir"
   ]
  },
  {
   "cell_type": "code",
   "execution_count": 28,
   "metadata": {},
   "outputs": [],
   "source": [
    "def create_dataset_dir(data_root: Path, subdir: str, output_dir: Path, csv_df: pd.DataFrame):\n",
    "    \"\"\"\n",
    "    Copies all PNG files from a subdirectory to a new directory and creates a CSV file containing information about the files.\n",
    "\n",
    "    Args:\n",
    "        data_root (Path): The root directory containing the subdirectory.\n",
    "        subdir (str): The name of the subdirectory containing the PNG files.\n",
    "            Should be 'training' or 'testing'.\n",
    "        output_dir (Path): The directory to copy the PNG files to.\n",
    "        csv_df (pd.DataFrame): A DataFrame containing information about the PNG files.\n",
    "    \"\"\"\n",
    "\n",
    "    output_dir = copy_pngs(data_root, subdir, output_dir)\n",
    "    csv_name = subdir[:-3] + '.csv'\n",
    "    csv_df.to_csv(output_dir / csv_name, index=False)\n",
    "    print(f'Created {str(output_dir / csv_name)}')"
   ]
  },
  {
   "cell_type": "code",
   "execution_count": 27,
   "metadata": {},
   "outputs": [
    {
     "name": "stdout",
     "output_type": "stream",
     "text": [
      "Created \\data\\mnist\\test\\test.csv file\n",
      "Created \\data\\mnist\\train\\train.csv file\n"
     ]
    },
    {
     "data": {
      "text/plain": [
       "WindowsPath('/data/mnist/train')"
      ]
     },
     "execution_count": 27,
     "metadata": {},
     "output_type": "execute_result"
    }
   ],
   "source": [
    "create_dataset_dir(data_root, 'testing', '/data/mnist/', test)\n",
    "create_dataset_dir(data_root, 'training', '/data/mnist/', train)"
   ]
  },
  {
   "cell_type": "code",
   "execution_count": null,
   "metadata": {},
   "outputs": [],
   "source": []
  }
 ],
 "metadata": {
  "kernelspec": {
   "display_name": "graphml",
   "language": "python",
   "name": "python3"
  },
  "language_info": {
   "codemirror_mode": {
    "name": "ipython",
    "version": 3
   },
   "file_extension": ".py",
   "mimetype": "text/x-python",
   "name": "python",
   "nbconvert_exporter": "python",
   "pygments_lexer": "ipython3",
   "version": "3.7.12"
  }
 },
 "nbformat": 4,
 "nbformat_minor": 2
}
